{
 "cells": [
  {
   "cell_type": "markdown",
   "metadata": {},
   "source": [
    "## Text-to-Speech Synthesis with HuggingFace Transformers\n",
    "#### In this section, we delve into the world of speech synthesis utilizing the HuggingFace Transformers library. Specifically, we harness the power of the SpeechT5 model, fine-tuned for speech synthesis on the LibriTTS dataset. "
   ]
  },
  {
   "cell_type": "markdown",
   "metadata": {},
   "source": [
    "### Getting Started\n",
    "To kick things off, make sure you have the necessary libraries installed. "
   ]
  },
  {
   "cell_type": "code",
   "execution_count": 15,
   "metadata": {},
   "outputs": [],
   "source": [
    "# Install required libraries\n",
    "!pip install transformers[torch] datasets soundfile"
   ]
  },
  {
   "cell_type": "markdown",
   "metadata": {},
   "source": [
    "Import the essential components"
   ]
  },
  {
   "cell_type": "code",
   "execution_count": 16,
   "metadata": {},
   "outputs": [],
   "source": [
    "# Import necessary packages\n",
    "from transformers import SpeechT5Processor, SpeechT5ForTextToSpeech, SpeechT5HifiGan\n",
    "from datasets import load_dataset\n",
    "import torch\n",
    "import random\n",
    "import string\n",
    "import soundfile as sf"
   ]
  },
  {
   "cell_type": "code",
   "execution_count": 17,
   "metadata": {},
   "outputs": [],
   "source": [
    "# Check for GPU availability\n",
    "device = \"cuda\" if torch.cuda.is_available() else \"cpu\""
   ]
  },
  {
   "cell_type": "markdown",
   "metadata": {},
   "source": [
    "Loading Models and Data\n",
    "\n",
    "The `processor` serves as the text tokenizer.\n",
    "`tts_model` is the core model responsible for converting text into speech.\n",
    "The `vocoder` (voice encoder) transforms acoustic features into audible speech.\n",
    "We load a dataset to access speaker voice embeddings, allowing us to synthesize speech with various speakers."
   ]
  },
  {
   "cell_type": "code",
   "execution_count": 18,
   "metadata": {},
   "outputs": [],
   "source": [
    "# Load the text processor\n",
    "text_processor = SpeechT5Processor.from_pretrained(\"microsoft/speecht5_tts\")"
   ]
  },
  {
   "cell_type": "code",
   "execution_count": 19,
   "metadata": {},
   "outputs": [],
   "source": [
    "# Load the text-to-speech model\n",
    "tts_model = SpeechT5ForTextToSpeech.from_pretrained(\"microsoft/speecht5_tts\").to(device)"
   ]
  },
  {
   "cell_type": "code",
   "execution_count": 20,
   "metadata": {},
   "outputs": [],
   "source": [
    "# Load the vocoder model for voice encoding\n",
    "vocoder_model = SpeechT5HifiGan.from_pretrained(\"microsoft/speecht5_hifigan\").to(device)"
   ]
  },
  {
   "cell_type": "code",
   "execution_count": 21,
   "metadata": {},
   "outputs": [],
   "source": [
    "# Load the dataset to obtain speaker embeddings\n",
    "speaker_embeddings_dataset = load_dataset(\"Matthijs/cmu-arctic-xvectors\", split=\"validation\")"
   ]
  },
  {
   "cell_type": "markdown",
   "metadata": {},
   "source": [
    "Available speakers and their corresponding IDs"
   ]
  },
  {
   "cell_type": "code",
   "execution_count": 22,
   "metadata": {},
   "outputs": [],
   "source": [
    "# Speaker IDs from the embeddings dataset\n",
    "speakers = {\n",
    "    'slt': 0,  # US female \n",
    "    'rms': 1,  # US male \n",
    "    'awb': 2,  # Scottish male\n",
    "    'jmk': 3,  # Canadian male\n",
    "    'ksp': 4  # Indian male\n",
    "}"
   ]
  },
  {
   "cell_type": "markdown",
   "metadata": {},
   "source": [
    "Speech Synthesis Function"
   ]
  },
  {
   "cell_type": "code",
   "execution_count": 23,
   "metadata": {},
   "outputs": [],
   "source": [
    "def save_text_to_speech(text, speaker=None):\n",
    "    # Preprocess the input text\n",
    "    input_text = text_processor(text=text, return_tensors=\"pt\").to(device)\n",
    "    \n",
    "    if speaker is not None:\n",
    "        # Load speaker embeddings containing voice characteristics from the dataset\n",
    "        speaker_embeddings = torch.tensor(speaker_embeddings_dataset[speaker][\"xvector\"]).unsqueeze(0).to(device)\n",
    "    else:\n",
    "        # Generate random speaker embeddings for a random voice\n",
    "        speaker_embeddings = torch.randn((1, 512)).to(device)\n",
    "    \n",
    "    # Generate speech using the models\n",
    "    generated_speech = tts_model.generate_speech(input_text[\"input_ids\"], speaker_embeddings, vocoder=vocoder_model)\n",
    "    \n",
    "    if speaker is not None:\n",
    "        # If a speaker is specified, use their ID in the filename\n",
    "        output_filename = f\"{speaker}-{'-'.join(text.split()[:3])}.mp3\"\n",
    "    else:\n",
    "        # If no speaker is specified, use a random string in the filename\n",
    "        random_str = ''.join(random.sample(string.ascii_letters+string.digits, k=5))\n",
    "        output_filename = f\"{random_str}-{'-'.join(text.split()[:3])}.mp3\"\n",
    "    \n",
    "    # Save the generated speech to a file with a 16KHz sampling rate\n",
    "    sf.write(output_filename, generated_speech.cpu().numpy(), samplerate=16000)\n",
    "    \n",
    "    # Return the filename for reference\n",
    "    return output_filename"
   ]
  },
  {
   "cell_type": "markdown",
   "metadata": {},
   "source": [
    "Using the Speech Synthesis Function to generate speech with different voices"
   ]
  },
  {
   "cell_type": "code",
   "execution_count": 24,
   "metadata": {},
   "outputs": [
    {
     "data": {
      "text/plain": [
       "'4-Text-to-Speech-is-a.mp3'"
      ]
     },
     "execution_count": 24,
     "metadata": {},
     "output_type": "execute_result"
    }
   ],
   "source": [
    "# Generate speech with an Indian male voice\n",
    "save_text_to_speech(\"Text-to-Speech is a technology that converts digital text into audible speech.\", speaker=speakers[\"ksp\"])"
   ]
  },
  {
   "cell_type": "code",
   "execution_count": 25,
   "metadata": {},
   "outputs": [
    {
     "data": {
      "text/plain": [
       "'gC3Fc-Text-to-Speech-is-a.mp3'"
      ]
     },
     "execution_count": 25,
     "metadata": {},
     "output_type": "execute_result"
    }
   ],
   "source": [
    "# Generate speech with a random voice\n",
    "save_text_to_speech(\"Text-to-Speech is a technology that converts digital text into audible speech.\")"
   ]
  },
  {
   "cell_type": "code",
   "execution_count": 26,
   "metadata": {},
   "outputs": [
    {
     "name": "stdout",
     "output_type": "stream",
     "text": [
      "Saved 0-Text-to-Speech-offers-a.mp3\n",
      "Saved 1-Text-to-Speech-offers-a.mp3\n",
      "Saved 2-Text-to-Speech-offers-a.mp3\n",
      "Saved 3-Text-to-Speech-offers-a.mp3\n",
      "Saved 4-Text-to-Speech-offers-a.mp3\n",
      "Saved gYUDI-Text-to-Speech-offers-a.mp3\n"
     ]
    }
   ],
   "source": [
    "# Text to convert using all available speaker voices\n",
    "text_to_convert = \"\"\"Text-to-Speech offers a range of applications, from accessibility tools for visually \n",
    "impaired individuals to voice assistants, e-learning platforms, audiobooks, and more. \n",
    "It can also provide a multisensory reading experience for specially abled people that \n",
    "combines seeing with hearing. With the latest techniques, one can generate a synthetic \n",
    "voice from only a few minutes of audio data, this is ideal for those who have lost their \n",
    "voice and only have limited recordings.\"\"\"\n",
    "\n",
    "for speaker_name, speaker_id in speakers.items():\n",
    "    output_filename = save_text_to_speech(text_to_convert, speaker_id)\n",
    "    print(f\"Saved {output_filename}\")\n",
    "\n",
    "# Generate speech with a random speaker\n",
    "output_filename = save_text_to_speech(text_to_convert)\n",
    "print(f\"Saved {output_filename}\")"
   ]
  },
  {
   "cell_type": "code",
   "execution_count": null,
   "metadata": {},
   "outputs": [],
   "source": []
  }
 ],
 "metadata": {
  "kernelspec": {
   "display_name": "Python 3",
   "language": "python",
   "name": "python3"
  },
  "language_info": {
   "codemirror_mode": {
    "name": "ipython",
    "version": 3
   },
   "file_extension": ".py",
   "mimetype": "text/x-python",
   "name": "python",
   "nbconvert_exporter": "python",
   "pygments_lexer": "ipython3",
   "version": "3.10.11"
  },
  "orig_nbformat": 4
 },
 "nbformat": 4,
 "nbformat_minor": 2
}
